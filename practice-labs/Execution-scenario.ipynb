{
 "cells": [
  {
   "cell_type": "markdown",
   "metadata": {},
   "source": [
    "# Inference using a CWL Workflow\n",
    "\n",
    "## Goal \n",
    "\n",
    "Invoke released CWL Workflow and available un the projetc repository releases page: https://github.com/eoap/inference-eoap/releases/tag/1.0.0.\n",
    "\n",
    "This notebook is linked to: https://eoap.github.io/inference-eoap/exec/tile-based-classification/  \n",
    "\n",
    "## Dependencies\n",
    "\n",
    "This notebook uses the output of the execution of the steps described in https://eoap.github.io/inference-eoap/cwl-workflow/stage-and-cog/\n",
    "\n",
    "## Kernel\n",
    "\n",
    "This noteboook uses the `bash` kernel.\n"
   ]
  },
  {
   "cell_type": "markdown",
   "metadata": {},
   "source": [
    "## Setup"
   ]
  },
  {
   "cell_type": "code",
   "execution_count": 1,
   "metadata": {
    "vscode": {
     "languageId": "shellscript"
    }
   },
   "outputs": [],
   "source": [
    "export WORKSPACE=/workspace/inference-eoap\n",
    "export RUNTIME=${WORKSPACE}/runs\n",
    "mkdir -p ${RUNTIME}\n",
    "cd ${RUNTIME}"
   ]
  },
  {
   "cell_type": "markdown",
   "metadata": {},
   "source": [
    "## CWL Workflow\n",
    "\n",
    "The `inference` CommandLineTool includes an updated container image reference:"
   ]
  },
  {
   "cell_type": "code",
   "execution_count": 2,
   "metadata": {
    "vscode": {
     "languageId": "shellscript"
    }
   },
   "outputs": [
    {
     "name": "stdout",
     "output_type": "stream",
     "text": [
      "\u001b[36mDockerRequirement\u001b[0m:\u001b[36m\u001b[0m\n",
      "\u001b[36m  dockerPull\u001b[0m:\u001b[32m ghcr.io/eoap/inference-eoap/inference@sha256:a2db84af7478ce345a01ce799e33cd637f4b5416e4549d4515072938fc4a7230\u001b[0m\n"
     ]
    }
   ],
   "source": [
    "curl -s -L https://github.com/eoap/inference-eoap/releases/download/1.0.0/tile-based-classification.1.0.0.cwl | yq e .'$graph[1].hints' -"
   ]
  },
  {
   "cell_type": "markdown",
   "metadata": {},
   "source": [
    "## Running the Workflow"
   ]
  },
  {
   "cell_type": "code",
   "execution_count": null,
   "metadata": {
    "vscode": {
     "languageId": "shellscript"
    }
   },
   "outputs": [],
   "source": [
    "# check if the results.json file exists\n",
    "if [ ! -f ${WORKSPACE}/runs/results.json ]; then\n",
    "    echo \"results.json file not found, run the stage-and-cog.cwl workflow first.\"\n",
    "    exit 1\n",
    "fi\n",
    "\n",
    "cwltool \\\n",
    "    --outdir ${WORKSPACE}/runs \\\n",
    "    https://github.com/eoap/inference-eoap/releases/download/1.0.0/tile-based-classification.1.0.0.cwl \\\n",
    "    --item \\\n",
    "    $( cat ${WORKSPACE}/runs/results.json | jq -r .stac_catalog.path )"
   ]
  },
  {
   "cell_type": "code",
   "execution_count": null,
   "metadata": {
    "vscode": {
     "languageId": "shellscript"
    }
   },
   "outputs": [],
   "source": []
  }
 ],
 "metadata": {
  "kernelspec": {
   "display_name": "Bash",
   "language": "bash",
   "name": "bash"
  },
  "language_info": {
   "codemirror_mode": "shell",
   "file_extension": ".sh",
   "mimetype": "text/x-sh",
   "name": "bash"
  }
 },
 "nbformat": 4,
 "nbformat_minor": 2
}
