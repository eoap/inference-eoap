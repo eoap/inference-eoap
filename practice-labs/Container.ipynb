{
 "cells": [
  {
   "cell_type": "markdown",
   "metadata": {},
   "source": [
    "# Build and test the inference container\n",
    "\n",
    "This notebook is linked to https://eoap.github.io/inference-eoap/containers/inference/\n",
    "\n",
    "## Goal\n",
    "\n",
    "Create a container and run the `inference` step in the container image.\n",
    "\n",
    "## Dependencies\n",
    "\n",
    "This notebook uses the output of the execution of the steps described in https://eoap.github.io/inference-eoap/cwl-workflow/stage-and-cog/\n",
    "\n",
    "## Kernel\n",
    "\n",
    "This notebook uses the `bash` kernel"
   ]
  },
  {
   "cell_type": "markdown",
   "metadata": {},
   "source": [
    "## Setup the environment"
   ]
  },
  {
   "cell_type": "code",
   "execution_count": null,
   "metadata": {
    "vscode": {
     "languageId": "shellscript"
    }
   },
   "outputs": [],
   "source": [
    "export WORKSPACE=/workspace/inference-eoap\n",
    "export RUNTIME=${WORKSPACE}/runs\n",
    "\n",
    "mkdir -p ${RUNTIME}\n",
    "cd ${RUNTIME}"
   ]
  },
  {
   "cell_type": "markdown",
   "metadata": {},
   "source": [
    "## Build the container\n",
    "\n",
    "Inspect the container file:"
   ]
  },
  {
   "cell_type": "code",
   "execution_count": null,
   "metadata": {
    "vscode": {
     "languageId": "shellscript"
    }
   },
   "outputs": [],
   "source": [
    "cat ${WORKSPACE}/tile-based-classification/command-line-tools/inference/Dockerfile"
   ]
  },
  {
   "cell_type": "markdown",
   "metadata": {},
   "source": [
    "Build the container using `podman`:"
   ]
  },
  {
   "cell_type": "code",
   "execution_count": null,
   "metadata": {
    "vscode": {
     "languageId": "shellscript"
    }
   },
   "outputs": [],
   "source": [
    "podman build --format docker -t localhost/inference:latest ${WORKSPACE}/tile-based-classification/command-line-tools/inference/Dockerfile\n"
   ]
  },
  {
   "cell_type": "markdown",
   "metadata": {},
   "source": [
    "Show the `inference` help:"
   ]
  },
  {
   "cell_type": "code",
   "execution_count": null,
   "metadata": {
    "vscode": {
     "languageId": "shellscript"
    }
   },
   "outputs": [],
   "source": [
    "podman run --rm -it --env=PYTHONPATH=/app localhost/inference:latest python -m app --help"
   ]
  },
  {
   "cell_type": "markdown",
   "metadata": {},
   "source": [
    "## Test the inference step in the container"
   ]
  },
  {
   "cell_type": "code",
   "execution_count": null,
   "metadata": {
    "vscode": {
     "languageId": "shellscript"
    }
   },
   "outputs": [],
   "source": [
    "podman run \\\n",
    "    -i \\\n",
    "    --userns=keep-id \\\n",
    "    --mount=type=bind,source=/workspace/mastering-app-package/runs,target=/runs \\\n",
    "    --workdir=/runs \\\n",
    "    --read-only=true \\\n",
    "    --user=1001:100 \\\n",
    "    --rm \\\n",
    "    --env=HOME=/runs \\\n",
    "    --env=PYTHONPATH=/app \\\n",
    "    localhost/crop:latest \\\n",
    "    python \\\n",
    "    -m \\\n",
    "    app \\\n",
    "    --aoi \\\n",
    "    \"-121.399,39.834,-120.74,40.472\" \\\n",
    "    --band \\\n",
    "    green \\\n",
    "    --epsg \\\n",
    "    \"EPSG:4326\" \\\n",
    "    --input-item \\\n",
    "    https://earth-search.aws.element84.com/v0/collections/sentinel-s2-l2a-cogs/items/S2B_10TFK_20210713_0_L2A"
   ]
  },
  {
   "cell_type": "markdown",
   "metadata": {},
   "source": [
    "Crop the nir band asset:"
   ]
  },
  {
   "cell_type": "code",
   "execution_count": null,
   "metadata": {
    "vscode": {
     "languageId": "shellscript"
    }
   },
   "outputs": [],
   "source": [
    "# check if the results.json file exists\n",
    "if [ ! -f ${WORKSPACE}/runs/results.json ]; then\n",
    "    echo \"results.json file not found, run the stage-and-cog.cwl workflow first.\"\n",
    "    exit 1\n",
    "fi\n",
    "\n",
    "podman run \\\n",
    "    -i \\\n",
    "    --userns=keep-id \\\n",
    "    --mount=type=bind,source=/workspace/inference-eoap/runs,target=/runs \\\n",
    "    --workdir=/runs \\\n",
    "    --read-only=true \\\n",
    "    --user=1001:100 \\\n",
    "    --rm \\\n",
    "    --env=HOME=/runs \\\n",
    "    --env=PYTHONPATH=/app \\\n",
    "    localhost/inference:latest \\\n",
    "    python \\\n",
    "    -m \\\n",
    "    app \\\n",
    "    --input-item $( cat ${WORKSPACE}/runs/results.json | jq -r .stac_catalog.path | sed 's/\\/workspace\\/inference-eoap//' )"
   ]
  },
  {
   "cell_type": "markdown",
   "metadata": {},
   "source": [
    "List the outputs:"
   ]
  },
  {
   "cell_type": "code",
   "execution_count": null,
   "metadata": {
    "vscode": {
     "languageId": "shellscript"
    }
   },
   "outputs": [],
   "source": [
    "tree ${RUNTIME}"
   ]
  },
  {
   "cell_type": "code",
   "execution_count": null,
   "metadata": {
    "vscode": {
     "languageId": "shellscript"
    }
   },
   "outputs": [],
   "source": []
  }
 ],
 "metadata": {
  "kernelspec": {
   "display_name": "Bash",
   "language": "bash",
   "name": "bash"
  },
  "language_info": {
   "codemirror_mode": "shell",
   "file_extension": ".sh",
   "mimetype": "text/x-sh",
   "name": "bash"
  }
 },
 "nbformat": 4,
 "nbformat_minor": 2
}
