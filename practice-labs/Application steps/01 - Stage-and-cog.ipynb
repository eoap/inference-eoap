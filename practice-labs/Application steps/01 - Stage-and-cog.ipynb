{
 "cells": [
  {
   "cell_type": "code",
   "execution_count": 1,
   "metadata": {
    "vscode": {
     "languageId": "shellscript"
    }
   },
   "outputs": [
    {
     "name": "stdout",
     "output_type": "stream",
     "text": [
      "\u001b[1;30mINFO\u001b[0m /home/fbrito/.local/bin/cwltool 3.1.20240112164112\n",
      "usage: https://github.com/eoap/inference-eoap/releases/download/1.0.0/stage-and-cog.1.0.0.cwl\n",
      "       [-h] --access_token ACCESS_TOKEN --item ITEM [job_order]\n",
      "\n",
      "Stage-in and cog-ify a Sentinel-2 L1C acquisition\n",
      "\n",
      "positional arguments:\n",
      "  job_order             Job input json file\n",
      "\n",
      "options:\n",
      "  -h, --help            show this help message and exit\n",
      "  --access_token ACCESS_TOKEN\n",
      "                        CDSE bearer token\n",
      "  --item ITEM           Reference to a STAC item\n"
     ]
    }
   ],
   "source": [
    "cwltool https://github.com/eoap/inference-eoap/releases/download/1.0.0/stage-and-cog.1.0.0.cwl --help"
   ]
  },
  {
   "cell_type": "code",
   "execution_count": null,
   "metadata": {
    "vscode": {
     "languageId": "shellscript"
    }
   },
   "outputs": [],
   "source": []
  }
 ],
 "metadata": {
  "kernelspec": {
   "display_name": "Bash",
   "language": "bash",
   "name": "bash"
  },
  "language_info": {
   "codemirror_mode": "shell",
   "file_extension": ".sh",
   "mimetype": "text/x-sh",
   "name": "bash"
  }
 },
 "nbformat": 4,
 "nbformat_minor": 2
}
